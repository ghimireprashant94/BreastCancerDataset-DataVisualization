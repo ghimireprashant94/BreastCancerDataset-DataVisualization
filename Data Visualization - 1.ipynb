{
 "cells": [
  {
   "cell_type": "markdown",
   "metadata": {},
   "source": [
    "# Data Science and Big Data Analysis (COSC 5340)"
   ]
  },
  {
   "cell_type": "markdown",
   "metadata": {},
   "source": [
    "# Prashant R. Ghimire (L20465640)"
   ]
  },
  {
   "cell_type": "markdown",
   "metadata": {},
   "source": [
    "Background: There are 10 predictors, all quantitative, and a binary dependent variable, indicating the presence or absence of breast cancer. The predictors are anthropometric data and parameters which can be gathered in routine blood analysis. "
   ]
  },
  {
   "cell_type": "markdown",
   "metadata": {},
   "source": [
    "Attribute Information:\n",
    "\n",
    "Quantitative Attributes: \n",
    "    1. Age (years) \n",
    "    2. BMI (kg/m2) \n",
    "    3. Glucose (mg/dL) \n",
    "    4. Insulin (µU/mL) \n",
    "    5. HOMA \n",
    "    6. Leptin (ng/mL) \n",
    "    7. Adiponectin (µg/mL) \n",
    "    8. Resistin (ng/mL) \n",
    "    9. MCP-1(pg/dL) \n",
    "\n",
    "Labels: \n",
    "    1=Healthy controls \n",
    "    2=Patients\n",
    "\n",
    "Since the data contains no missing information and all the attributes are of the datatype 'integer' or 'float', no preprocessing was performed on this dataset. Although this dataset does require preprocessing, due to the time constraint I couldn't peform it."
   ]
  },
  {
   "cell_type": "code",
   "execution_count": 169,
   "metadata": {},
   "outputs": [],
   "source": [
    "import numpy as np\n",
    "import pandas as pd\n",
    "import matplotlib.pyplot as plt\n",
    "from pandas.plotting import scatter_matrix"
   ]
  },
  {
   "cell_type": "code",
   "execution_count": 170,
   "metadata": {},
   "outputs": [],
   "source": [
    "from pylab import rcParams\n",
    "import seaborn as sb\n",
    "\n",
    "from sklearn.cluster import KMeans\n",
    "from sklearn.cluster import DBSCAN\n",
    "from collections import Counter\n",
    "\n",
    "from sklearn.preprocessing import StandardScaler"
   ]
  },
  {
   "cell_type": "code",
   "execution_count": 171,
   "metadata": {},
   "outputs": [],
   "source": [
    "data = pd.read_csv(\"data.csv\")"
   ]
  },
  {
   "cell_type": "code",
   "execution_count": 172,
   "metadata": {},
   "outputs": [
    {
     "data": {
      "text/plain": [
       "(116, 10)"
      ]
     },
     "execution_count": 172,
     "metadata": {},
     "output_type": "execute_result"
    }
   ],
   "source": [
    "#Gives the total number of objects and the attributes\n",
    "\n",
    "data.shape"
   ]
  },
  {
   "cell_type": "code",
   "execution_count": 173,
   "metadata": {},
   "outputs": [
    {
     "data": {
      "text/plain": [
       "Age                 int64\n",
       "BMI               float64\n",
       "Glucose             int64\n",
       "Insulin           float64\n",
       "HOMA              float64\n",
       "Leptin            float64\n",
       "Adiponectin       float64\n",
       "Resistin          float64\n",
       "MCP.1             float64\n",
       "Classification      int64\n",
       "dtype: object"
      ]
     },
     "execution_count": 173,
     "metadata": {},
     "output_type": "execute_result"
    }
   ],
   "source": [
    "#Gives the data types of the attributes\n",
    "\n",
    "data.dtypes"
   ]
  },
  {
   "cell_type": "code",
   "execution_count": 174,
   "metadata": {},
   "outputs": [
    {
     "data": {
      "text/html": [
       "<div>\n",
       "<style scoped>\n",
       "    .dataframe tbody tr th:only-of-type {\n",
       "        vertical-align: middle;\n",
       "    }\n",
       "\n",
       "    .dataframe tbody tr th {\n",
       "        vertical-align: top;\n",
       "    }\n",
       "\n",
       "    .dataframe thead th {\n",
       "        text-align: right;\n",
       "    }\n",
       "</style>\n",
       "<table border=\"1\" class=\"dataframe\">\n",
       "  <thead>\n",
       "    <tr style=\"text-align: right;\">\n",
       "      <th></th>\n",
       "      <th>Age</th>\n",
       "      <th>BMI</th>\n",
       "      <th>Glucose</th>\n",
       "      <th>Insulin</th>\n",
       "      <th>HOMA</th>\n",
       "      <th>Leptin</th>\n",
       "      <th>Adiponectin</th>\n",
       "      <th>Resistin</th>\n",
       "      <th>MCP.1</th>\n",
       "      <th>Classification</th>\n",
       "    </tr>\n",
       "  </thead>\n",
       "  <tbody>\n",
       "    <tr>\n",
       "      <th>0</th>\n",
       "      <td>48</td>\n",
       "      <td>23.500000</td>\n",
       "      <td>70</td>\n",
       "      <td>2.707</td>\n",
       "      <td>0.467409</td>\n",
       "      <td>8.8071</td>\n",
       "      <td>9.702400</td>\n",
       "      <td>7.99585</td>\n",
       "      <td>417.114</td>\n",
       "      <td>1</td>\n",
       "    </tr>\n",
       "    <tr>\n",
       "      <th>1</th>\n",
       "      <td>83</td>\n",
       "      <td>20.690495</td>\n",
       "      <td>92</td>\n",
       "      <td>3.115</td>\n",
       "      <td>0.706897</td>\n",
       "      <td>8.8438</td>\n",
       "      <td>5.429285</td>\n",
       "      <td>4.06405</td>\n",
       "      <td>468.786</td>\n",
       "      <td>1</td>\n",
       "    </tr>\n",
       "    <tr>\n",
       "      <th>2</th>\n",
       "      <td>82</td>\n",
       "      <td>23.124670</td>\n",
       "      <td>91</td>\n",
       "      <td>4.498</td>\n",
       "      <td>1.009651</td>\n",
       "      <td>17.9393</td>\n",
       "      <td>22.432040</td>\n",
       "      <td>9.27715</td>\n",
       "      <td>554.697</td>\n",
       "      <td>1</td>\n",
       "    </tr>\n",
       "    <tr>\n",
       "      <th>3</th>\n",
       "      <td>68</td>\n",
       "      <td>21.367521</td>\n",
       "      <td>77</td>\n",
       "      <td>3.226</td>\n",
       "      <td>0.612725</td>\n",
       "      <td>9.8827</td>\n",
       "      <td>7.169560</td>\n",
       "      <td>12.76600</td>\n",
       "      <td>928.220</td>\n",
       "      <td>1</td>\n",
       "    </tr>\n",
       "    <tr>\n",
       "      <th>4</th>\n",
       "      <td>86</td>\n",
       "      <td>21.111111</td>\n",
       "      <td>92</td>\n",
       "      <td>3.549</td>\n",
       "      <td>0.805386</td>\n",
       "      <td>6.6994</td>\n",
       "      <td>4.819240</td>\n",
       "      <td>10.57635</td>\n",
       "      <td>773.920</td>\n",
       "      <td>1</td>\n",
       "    </tr>\n",
       "  </tbody>\n",
       "</table>\n",
       "</div>"
      ],
      "text/plain": [
       "   Age        BMI  Glucose  Insulin      HOMA   Leptin  Adiponectin  Resistin  \\\n",
       "0   48  23.500000       70    2.707  0.467409   8.8071     9.702400   7.99585   \n",
       "1   83  20.690495       92    3.115  0.706897   8.8438     5.429285   4.06405   \n",
       "2   82  23.124670       91    4.498  1.009651  17.9393    22.432040   9.27715   \n",
       "3   68  21.367521       77    3.226  0.612725   9.8827     7.169560  12.76600   \n",
       "4   86  21.111111       92    3.549  0.805386   6.6994     4.819240  10.57635   \n",
       "\n",
       "     MCP.1  Classification  \n",
       "0  417.114               1  \n",
       "1  468.786               1  \n",
       "2  554.697               1  \n",
       "3  928.220               1  \n",
       "4  773.920               1  "
      ]
     },
     "execution_count": 174,
     "metadata": {},
     "output_type": "execute_result"
    }
   ],
   "source": [
    "#Gives the sample of the table from the top\n",
    "\n",
    "data.head()"
   ]
  },
  {
   "cell_type": "code",
   "execution_count": 175,
   "metadata": {},
   "outputs": [
    {
     "data": {
      "text/html": [
       "<div>\n",
       "<style scoped>\n",
       "    .dataframe tbody tr th:only-of-type {\n",
       "        vertical-align: middle;\n",
       "    }\n",
       "\n",
       "    .dataframe tbody tr th {\n",
       "        vertical-align: top;\n",
       "    }\n",
       "\n",
       "    .dataframe thead th {\n",
       "        text-align: right;\n",
       "    }\n",
       "</style>\n",
       "<table border=\"1\" class=\"dataframe\">\n",
       "  <thead>\n",
       "    <tr style=\"text-align: right;\">\n",
       "      <th></th>\n",
       "      <th>Age</th>\n",
       "      <th>BMI</th>\n",
       "      <th>Glucose</th>\n",
       "      <th>Insulin</th>\n",
       "      <th>HOMA</th>\n",
       "      <th>Leptin</th>\n",
       "      <th>Adiponectin</th>\n",
       "      <th>Resistin</th>\n",
       "      <th>MCP.1</th>\n",
       "      <th>Classification</th>\n",
       "    </tr>\n",
       "  </thead>\n",
       "  <tbody>\n",
       "    <tr>\n",
       "      <th>111</th>\n",
       "      <td>45</td>\n",
       "      <td>26.85</td>\n",
       "      <td>92</td>\n",
       "      <td>3.33</td>\n",
       "      <td>0.755688</td>\n",
       "      <td>54.68</td>\n",
       "      <td>12.10</td>\n",
       "      <td>10.96</td>\n",
       "      <td>268.23</td>\n",
       "      <td>2</td>\n",
       "    </tr>\n",
       "    <tr>\n",
       "      <th>112</th>\n",
       "      <td>62</td>\n",
       "      <td>26.84</td>\n",
       "      <td>100</td>\n",
       "      <td>4.53</td>\n",
       "      <td>1.117400</td>\n",
       "      <td>12.45</td>\n",
       "      <td>21.42</td>\n",
       "      <td>7.32</td>\n",
       "      <td>330.16</td>\n",
       "      <td>2</td>\n",
       "    </tr>\n",
       "    <tr>\n",
       "      <th>113</th>\n",
       "      <td>65</td>\n",
       "      <td>32.05</td>\n",
       "      <td>97</td>\n",
       "      <td>5.73</td>\n",
       "      <td>1.370998</td>\n",
       "      <td>61.48</td>\n",
       "      <td>22.54</td>\n",
       "      <td>10.33</td>\n",
       "      <td>314.05</td>\n",
       "      <td>2</td>\n",
       "    </tr>\n",
       "    <tr>\n",
       "      <th>114</th>\n",
       "      <td>72</td>\n",
       "      <td>25.59</td>\n",
       "      <td>82</td>\n",
       "      <td>2.82</td>\n",
       "      <td>0.570392</td>\n",
       "      <td>24.96</td>\n",
       "      <td>33.75</td>\n",
       "      <td>3.27</td>\n",
       "      <td>392.46</td>\n",
       "      <td>2</td>\n",
       "    </tr>\n",
       "    <tr>\n",
       "      <th>115</th>\n",
       "      <td>86</td>\n",
       "      <td>27.18</td>\n",
       "      <td>138</td>\n",
       "      <td>19.91</td>\n",
       "      <td>6.777364</td>\n",
       "      <td>90.28</td>\n",
       "      <td>14.11</td>\n",
       "      <td>4.35</td>\n",
       "      <td>90.09</td>\n",
       "      <td>2</td>\n",
       "    </tr>\n",
       "  </tbody>\n",
       "</table>\n",
       "</div>"
      ],
      "text/plain": [
       "     Age    BMI  Glucose  Insulin      HOMA  Leptin  Adiponectin  Resistin  \\\n",
       "111   45  26.85       92     3.33  0.755688   54.68        12.10     10.96   \n",
       "112   62  26.84      100     4.53  1.117400   12.45        21.42      7.32   \n",
       "113   65  32.05       97     5.73  1.370998   61.48        22.54     10.33   \n",
       "114   72  25.59       82     2.82  0.570392   24.96        33.75      3.27   \n",
       "115   86  27.18      138    19.91  6.777364   90.28        14.11      4.35   \n",
       "\n",
       "      MCP.1  Classification  \n",
       "111  268.23               2  \n",
       "112  330.16               2  \n",
       "113  314.05               2  \n",
       "114  392.46               2  \n",
       "115   90.09               2  "
      ]
     },
     "execution_count": 175,
     "metadata": {},
     "output_type": "execute_result"
    }
   ],
   "source": [
    "#Gives the sample of the table from the bottom\n",
    "\n",
    "data.tail()"
   ]
  },
  {
   "cell_type": "code",
   "execution_count": 176,
   "metadata": {},
   "outputs": [],
   "source": [
    "data_col1 = data['Age']\n",
    "\n",
    "data_col2 = data['BMI']\n",
    "\n",
    "data_col3 = data['Glucose']\n",
    "\n",
    "data_col4 = data['Insulin']\n",
    "\n",
    "data_col5 = data['HOMA']\n",
    "\n",
    "data_col6 = data['Leptin']\n",
    "\n",
    "data_col7 = data['Adiponectin']\n",
    "\n",
    "data_col8 = data['Resistin']\n",
    "\n",
    "data_col9 = data['MCP.1']"
   ]
  },
  {
   "cell_type": "code",
   "execution_count": 177,
   "metadata": {},
   "outputs": [
    {
     "name": "stdout",
     "output_type": "stream",
     "text": [
      "     Age        BMI  Glucose  Insulin       HOMA   Leptin  Adiponectin  \\\n",
      "0     48  23.500000       70    2.707   0.467409   8.8071     9.702400   \n",
      "1     83  20.690495       92    3.115   0.706897   8.8438     5.429285   \n",
      "2     82  23.124670       91    4.498   1.009651  17.9393    22.432040   \n",
      "3     68  21.367521       77    3.226   0.612725   9.8827     7.169560   \n",
      "4     86  21.111111       92    3.549   0.805386   6.6994     4.819240   \n",
      "5     49  22.854458       92    3.226   0.732087   6.8317    13.679750   \n",
      "6     89  22.700000       77    4.690   0.890787   6.9640     5.589865   \n",
      "7     76  23.800000      118    6.470   1.883201   4.3110    13.251320   \n",
      "8     73  22.000000       97    3.350   0.801543   4.4700    10.358725   \n",
      "9     75  23.000000       83    4.952   1.013839  17.1270    11.578990   \n",
      "10    34  21.470000       78    3.469   0.667436  14.5700    13.110000   \n",
      "11    29  23.010000       82    5.663   1.145436  35.5900    26.720000   \n",
      "12    25  22.860000       82    4.090   0.827271  20.4500    23.670000   \n",
      "13    24  18.670000       88    6.107   1.330000   8.8800    36.060000   \n",
      "14    38  23.340000       75    5.782   1.069670  15.2600    17.950000   \n",
      "15    44  20.760000       86    7.553   1.600000  14.0900    20.320000   \n",
      "16    47  22.030000       84    2.869   0.590000  26.6500    38.040000   \n",
      "17    61  32.038959       85   18.077   3.790144  30.7729     7.780255   \n",
      "18    64  34.529723       95    4.427   1.037394  21.2117     5.462620   \n",
      "19    32  36.512637       87   14.026   3.009980  49.3727     5.100000   \n",
      "20    36  28.576676       86    4.345   0.921719  15.1248     8.600000   \n",
      "21    34  31.975015       87    4.530   0.972138  28.7502     7.642760   \n",
      "22    29  32.270788       84    5.810   1.203832  45.6196     6.209635   \n",
      "23    35  30.276817       84    4.376   0.906707  39.2134     9.048185   \n",
      "24    54  30.483158       90    5.537   1.229214  12.3310     9.731380   \n",
      "25    45  37.035608       83    6.760   1.383997  39.9802     4.617125   \n",
      "26    50  38.578759      106    6.703   1.752611  46.6401     4.667645   \n",
      "27    66  31.446541       90    9.245   2.052390  45.9624    10.355260   \n",
      "28    35  35.250761       90    6.817   1.513374  50.6094     6.966895   \n",
      "29    36  34.174890       80    6.590   1.300427  10.2809     5.065915   \n",
      "..   ...        ...      ...      ...        ...      ...          ...   \n",
      "86    48  28.125000       90    2.540   0.563880  15.5325    10.222310   \n",
      "87    85  27.688778      196   51.814  25.050342  70.8824     7.901685   \n",
      "88    48  31.250000      199   12.162   5.969920  18.1314     4.104105   \n",
      "89    58  29.154519      139   16.582   5.685415  22.8884    10.262660   \n",
      "90    40  30.836531      128   41.894  13.227332  31.0385     6.160995   \n",
      "91    82  31.217482      100   18.077   4.458993  31.6453     9.923650   \n",
      "92    52  30.801249       87   30.212   6.483495  29.2739     6.268540   \n",
      "93    49  32.461911      134   24.887   8.225983  42.3914    10.793940   \n",
      "94    60  31.231410      131   30.130   9.736007  37.8430     8.404430   \n",
      "95    49  29.777778       70    8.396   1.449709  51.3387    10.731740   \n",
      "96    44  27.887617       99    9.208   2.248594  12.6757     5.478170   \n",
      "97    40  27.636054      103    2.432   0.617890  14.3224     6.783870   \n",
      "98    71  27.915519      104   18.200   4.668907  53.4997     1.656020   \n",
      "99    69  28.444444      108    8.808   2.346451  14.7485     5.288025   \n",
      "100   74  28.650138       88    3.012   0.653805  31.1233     7.652220   \n",
      "101   66  26.562500       89    6.524   1.432235  14.9084     8.429960   \n",
      "102   65  30.915577       97   10.491   2.510147  44.0217     3.710090   \n",
      "103   72  29.136316       83   10.949   2.241625  26.8081     2.784910   \n",
      "104   57  34.838148       95   12.548   2.940415  33.1612     2.364950   \n",
      "105   73  37.109375      134    5.636   1.862886  41.4064     3.335665   \n",
      "106   45  29.384757       90    4.713   1.046286  23.8479     6.644245   \n",
      "107   46  33.180000       92    5.750   1.304867  18.6900     9.160000   \n",
      "108   68  35.560000      131    8.150   2.633537  17.8700    11.900000   \n",
      "109   75  30.480000      152    7.010   2.628283  50.5300    10.060000   \n",
      "110   54  36.050000      119   11.910   3.495982  89.2700     8.010000   \n",
      "111   45  26.850000       92    3.330   0.755688  54.6800    12.100000   \n",
      "112   62  26.840000      100    4.530   1.117400  12.4500    21.420000   \n",
      "113   65  32.050000       97    5.730   1.370998  61.4800    22.540000   \n",
      "114   72  25.590000       82    2.820   0.570392  24.9600    33.750000   \n",
      "115   86  27.180000      138   19.910   6.777364  90.2800    14.110000   \n",
      "\n",
      "     Resistin     MCP.1  \n",
      "0     7.99585   417.114  \n",
      "1     4.06405   468.786  \n",
      "2     9.27715   554.697  \n",
      "3    12.76600   928.220  \n",
      "4    10.57635   773.920  \n",
      "5    10.31760   530.410  \n",
      "6    12.93610  1256.083  \n",
      "7     5.10420   280.694  \n",
      "8     6.28445   136.855  \n",
      "9     7.09130   318.302  \n",
      "10    6.92000   354.600  \n",
      "11    4.58000   174.800  \n",
      "12    5.14000   313.730  \n",
      "13    6.85000   632.220  \n",
      "14    9.35000   165.020  \n",
      "15    7.64000    63.610  \n",
      "16    3.32000   191.720  \n",
      "17   13.68392   444.395  \n",
      "18    6.70188   252.449  \n",
      "19   17.10223   588.460  \n",
      "20    9.15390   534.224  \n",
      "21    5.62592   572.783  \n",
      "22   24.60330   904.981  \n",
      "23   16.43706   733.797  \n",
      "24   10.19299  1227.910  \n",
      "25    8.70448   586.173  \n",
      "26   11.78388   887.160  \n",
      "27   23.38190  1102.110  \n",
      "28   22.03703   667.928  \n",
      "29   15.72187   581.313  \n",
      "..        ...       ...  \n",
      "86   16.11032  1698.440  \n",
      "87   55.21530  1078.359  \n",
      "88   53.63080  1698.440  \n",
      "89   13.97399   923.886  \n",
      "90   17.55503   638.261  \n",
      "91   19.94687   994.316  \n",
      "92   24.24591   764.667  \n",
      "93    5.76800   656.393  \n",
      "94   11.50005   396.021  \n",
      "95   20.76801   602.486  \n",
      "96   23.03306   407.206  \n",
      "97   26.01360   293.123  \n",
      "98   49.24184   256.001  \n",
      "99   16.48508   353.568  \n",
      "100  18.35574   572.401  \n",
      "101  14.91922   269.487  \n",
      "102  20.46850   396.648  \n",
      "103  14.76966   232.018  \n",
      "104   9.95420   655.834  \n",
      "105   6.89235   788.902  \n",
      "106  15.55625   621.273  \n",
      "107   8.89000   209.190  \n",
      "108   4.19000   198.400  \n",
      "109  11.73000    99.450  \n",
      "110   5.06000   218.280  \n",
      "111  10.96000   268.230  \n",
      "112   7.32000   330.160  \n",
      "113  10.33000   314.050  \n",
      "114   3.27000   392.460  \n",
      "115   4.35000    90.090  \n",
      "\n",
      "[116 rows x 9 columns]\n"
     ]
    }
   ],
   "source": [
    "new_data = pd.DataFrame(data)\n",
    "\n",
    "new_data = new_data.drop(\"Classification\",axis=1)\n",
    "\n",
    "print new_data"
   ]
  },
  {
   "cell_type": "code",
   "execution_count": 178,
   "metadata": {},
   "outputs": [
    {
     "data": {
      "text/plain": [
       "KMeans(algorithm='auto', copy_x=True, init='k-means++', max_iter=300,\n",
       "    n_clusters=3, n_init=10, n_jobs=None, precompute_distances='auto',\n",
       "    random_state=None, tol=0.0001, verbose=0)"
      ]
     },
     "execution_count": 178,
     "metadata": {},
     "output_type": "execute_result"
    }
   ],
   "source": [
    "kmeans_model = KMeans(n_clusters=3)\n",
    "kmeans_model.fit(new_data)"
   ]
  },
  {
   "cell_type": "code",
   "execution_count": 179,
   "metadata": {},
   "outputs": [
    {
     "data": {
      "text/plain": [
       "<Figure size 1080x720 with 0 Axes>"
      ]
     },
     "metadata": {},
     "output_type": "display_data"
    }
   ],
   "source": [
    "# Set the size of the plot\n",
    "plt.figure(figsize=(15,10))\n",
    "\n",
    "colors = np.array(['red', 'green', 'blue'])"
   ]
  },
  {
   "cell_type": "code",
   "execution_count": 180,
   "metadata": {},
   "outputs": [
    {
     "data": {
      "text/plain": [
       "<matplotlib.collections.PathCollection at 0x1a1c2d4850>"
      ]
     },
     "execution_count": 180,
     "metadata": {},
     "output_type": "execute_result"
    },
    {
     "data": {
      "image/png": "[encoded data removed]",
      "text/plain": [
       "<Figure size 432x288 with 1 Axes>"
      ]
     },
     "metadata": {
      "needs_background": "light"
     },
     "output_type": "display_data"
    }
   ],
   "source": [
    "# Age vs Glucose\n",
    "\n",
    "plt.subplot(1, 2, 1)\n",
    "plt.scatter(data_col1, data_col2,c=[colors[i] for i in kmeans_model.labels_],  s=40)\n",
    "plt.title('Age vs Glucose')\n",
    "plt.xlabel('Age')\n",
    "plt.ylabel('Glucose')\n",
    "\n",
    "#Define the centers of the clusters    \n",
    "centers = kmeans_model.cluster_centers_\n",
    "plt.scatter(centers[:, 0], centers[:, 1], c='orange', s=200, alpha=0.5)"
   ]
  },
  {
   "cell_type": "code",
   "execution_count": 181,
   "metadata": {},
   "outputs": [
    {
     "data": {
      "image/png": "[encoded data removed]",
      "text/plain": [
       "<Figure size 432x288 with 1 Axes>"
      ]
     },
     "metadata": {
      "needs_background": "light"
     },
     "output_type": "display_data"
    }
   ],
   "source": [
    "# BMI vs Insulin\n",
    "\n",
    "plt.subplot(1, 2, 2)\n",
    "plt.scatter(data_col2, data_col4, c=[colors[i] for i in kmeans_model.labels_],  s=40)\n",
    "plt.title('BMI vs Insulin')\n",
    "plt.xlabel('BMI')\n",
    "plt.ylabel('Insulin')\n",
    "   \n",
    "centers = kmeans_model.cluster_centers_\n",
    "plt.scatter(centers[:, 0], centers[:, 1], c='orange', s=200, alpha=0.5)\n",
    " \n",
    "plt.show()"
   ]
  },
  {
   "cell_type": "code",
   "execution_count": 182,
   "metadata": {},
   "outputs": [
    {
     "data": {
      "text/plain": [
       "<matplotlib.collections.PathCollection at 0x1a1cc6eed0>"
      ]
     },
     "execution_count": 182,
     "metadata": {},
     "output_type": "execute_result"
    },
    {
     "data": {
      "image/png": "[encoded data removed]",
      "text/plain": [
       "<Figure size 432x288 with 1 Axes>"
      ]
     },
     "metadata": {
      "needs_background": "light"
     },
     "output_type": "display_data"
    }
   ],
   "source": [
    "# Age vs BMI\n",
    "\n",
    "plt.subplot(1, 2, 2)\n",
    "plt.scatter(data_col1, data_col2, c=[colors[i] for i in kmeans_model.labels_],  s=40)\n",
    "plt.title('Age vs BMI')\n",
    "plt.xlabel('Age')\n",
    "plt.ylabel('BMI')\n",
    "   \n",
    "centers = kmeans_model.cluster_centers_\n",
    "plt.scatter(centers[:, 0], centers[:, 1], c='orange', s=200, alpha=0.5)"
   ]
  },
  {
   "cell_type": "code",
   "execution_count": 183,
   "metadata": {},
   "outputs": [
    {
     "data": {
      "text/plain": [
       "KMeans(algorithm='auto', copy_x=True, init='k-means++', max_iter=300,\n",
       "    n_clusters=5, n_init=10, n_jobs=None, precompute_distances='auto',\n",
       "    random_state=None, tol=0.0001, verbose=0)"
      ]
     },
     "execution_count": 183,
     "metadata": {},
     "output_type": "execute_result"
    }
   ],
   "source": [
    "kmeans_model = KMeans(n_clusters=5)\n",
    "kmeans_model.fit(new_data)"
   ]
  },
  {
   "cell_type": "code",
   "execution_count": 184,
   "metadata": {},
   "outputs": [
    {
     "data": {
      "text/plain": [
       "<Figure size 1080x720 with 0 Axes>"
      ]
     },
     "metadata": {},
     "output_type": "display_data"
    }
   ],
   "source": [
    "# Set the size of the plot\n",
    "plt.figure(figsize=(15,10))\n",
    "\n",
    "colors = np.array(['red', 'green', 'blue','pink','black'])"
   ]
  },
  {
   "cell_type": "code",
   "execution_count": 185,
   "metadata": {},
   "outputs": [
    {
     "data": {
      "text/plain": [
       "<matplotlib.collections.PathCollection at 0x1a1cdd69d0>"
      ]
     },
     "execution_count": 185,
     "metadata": {},
     "output_type": "execute_result"
    },
    {
     "data": {
      "image/png": "[encoded data removed]",
      "text/plain": [
       "<Figure size 432x288 with 1 Axes>"
      ]
     },
     "metadata": {
      "needs_background": "light"
     },
     "output_type": "display_data"
    }
   ],
   "source": [
    "# Age vs Glucose\n",
    "\n",
    "plt.subplot(1, 2, 1)\n",
    "plt.scatter(data_col1, data_col2,c=[colors[i] for i in kmeans_model.labels_],  s=40)\n",
    "plt.title('Age vs Glucose')\n",
    "plt.xlabel('Age')\n",
    "plt.ylabel('Glucose')\n",
    "\n",
    "#Define the centers of the clusters    \n",
    "centers = kmeans_model.cluster_centers_\n",
    "plt.scatter(centers[:, 0], centers[:, 1], c='orange', s=200, alpha=0.5)"
   ]
  },
  {
   "cell_type": "code",
   "execution_count": 186,
   "metadata": {},
   "outputs": [
    {
     "data": {
      "image/png": "[encoded data removed]",
      "text/plain": [
       "<Figure size 432x288 with 1 Axes>"
      ]
     },
     "metadata": {
      "needs_background": "light"
     },
     "output_type": "display_data"
    }
   ],
   "source": [
    "# BMI vs Insulin\n",
    "\n",
    "plt.subplot(1, 2, 2)\n",
    "plt.scatter(data_col2, data_col4, c=[colors[i] for i in kmeans_model.labels_],  s=40)\n",
    "plt.title('BMI vs Insulin')\n",
    "plt.xlabel('BMI')\n",
    "plt.ylabel('Insulin')\n",
    "   \n",
    "centers = kmeans_model.cluster_centers_\n",
    "plt.scatter(centers[:, 0], centers[:, 1], c='orange', s=200, alpha=0.5)\n",
    " \n",
    "plt.show()"
   ]
  },
  {
   "cell_type": "code",
   "execution_count": 187,
   "metadata": {},
   "outputs": [
    {
     "data": {
      "text/plain": [
       "<matplotlib.collections.PathCollection at 0x1a1a225d90>"
      ]
     },
     "execution_count": 187,
     "metadata": {},
     "output_type": "execute_result"
    },
    {
     "data": {
      "image/png": "[encoded data removed]",
      "text/plain": [
       "<Figure size 432x288 with 1 Axes>"
      ]
     },
     "metadata": {
      "needs_background": "light"
     },
     "output_type": "display_data"
    }
   ],
   "source": [
    "# Age vs BMI\n",
    "\n",
    "plt.subplot(1, 2, 2)\n",
    "plt.scatter(data_col1, data_col2, c=[colors[i] for i in kmeans_model.labels_],  s=40)\n",
    "plt.title('Age vs BMI')\n",
    "plt.xlabel('Age')\n",
    "plt.ylabel('BMI')\n",
    "   \n",
    "centers = kmeans_model.cluster_centers_\n",
    "plt.scatter(centers[:, 0], centers[:, 1], c='orange', s=200, alpha=0.5)"
   ]
  },
  {
   "cell_type": "code",
   "execution_count": 188,
   "metadata": {},
   "outputs": [
    {
     "data": {
      "text/plain": [
       "KMeans(algorithm='auto', copy_x=True, init='k-means++', max_iter=300,\n",
       "    n_clusters=1, n_init=10, n_jobs=None, precompute_distances='auto',\n",
       "    random_state=None, tol=0.0001, verbose=0)"
      ]
     },
     "execution_count": 188,
     "metadata": {},
     "output_type": "execute_result"
    }
   ],
   "source": [
    "kmeans_model = KMeans(n_clusters=1)\n",
    "kmeans_model.fit(new_data)"
   ]
  },
  {
   "cell_type": "code",
   "execution_count": 189,
   "metadata": {},
   "outputs": [
    {
     "data": {
      "text/plain": [
       "<Figure size 1080x720 with 0 Axes>"
      ]
     },
     "metadata": {},
     "output_type": "display_data"
    }
   ],
   "source": [
    "# Set the size of the plot\n",
    "plt.figure(figsize=(15,10))\n",
    "\n",
    "colors = np.array(['blue'])"
   ]
  },
  {
   "cell_type": "code",
   "execution_count": 190,
   "metadata": {},
   "outputs": [
    {
     "data": {
      "text/plain": [
       "<matplotlib.collections.PathCollection at 0x1a1bd2da50>"
      ]
     },
     "execution_count": 190,
     "metadata": {},
     "output_type": "execute_result"
    },
    {
     "data": {
      "image/png": "[encoded data removed]",
      "text/plain": [
       "<Figure size 432x288 with 1 Axes>"
      ]
     },
     "metadata": {
      "needs_background": "light"
     },
     "output_type": "display_data"
    }
   ],
   "source": [
    "# Age vs Glucose\n",
    "\n",
    "plt.subplot(1, 2, 1)\n",
    "plt.scatter(data_col1, data_col2,c=[colors[i] for i in kmeans_model.labels_],  s=40)\n",
    "plt.title('Age vs Glucose')\n",
    "plt.xlabel('Age')\n",
    "plt.ylabel('Glucose')\n",
    "\n",
    "#Define the centers of the clusters    \n",
    "centers = kmeans_model.cluster_centers_\n",
    "plt.scatter(centers[:, 0], centers[:, 1], c='orange', s=200, alpha=0.5)"
   ]
  },
  {
   "cell_type": "code",
   "execution_count": 191,
   "metadata": {},
   "outputs": [
    {
     "data": {
      "image/png": "[encoded data removed]",
      "text/plain": [
       "<Figure size 432x288 with 1 Axes>"
      ]
     },
     "metadata": {
      "needs_background": "light"
     },
     "output_type": "display_data"
    }
   ],
   "source": [
    "# BMI vs Insulin\n",
    "\n",
    "plt.subplot(1, 2, 2)\n",
    "plt.scatter(data_col2, data_col4, c=[colors[i] for i in kmeans_model.labels_],  s=40)\n",
    "plt.title('BMI vs Insulin')\n",
    "plt.xlabel('BMI')\n",
    "plt.ylabel('Insulin')\n",
    "   \n",
    "centers = kmeans_model.cluster_centers_\n",
    "plt.scatter(centers[:, 0], centers[:, 1], c='orange', s=200, alpha=0.5)\n",
    " \n",
    "plt.show()"
   ]
  },
  {
   "cell_type": "code",
   "execution_count": 192,
   "metadata": {},
   "outputs": [
    {
     "data": {
      "text/plain": [
       "<matplotlib.collections.PathCollection at 0x1a1cb25c10>"
      ]
     },
     "execution_count": 192,
     "metadata": {},
     "output_type": "execute_result"
    },
    {
     "data": {
      "image/png": "[encoded data removed]",
      "text/plain": [
       "<Figure size 432x288 with 1 Axes>"
      ]
     },
     "metadata": {
      "needs_background": "light"
     },
     "output_type": "display_data"
    }
   ],
   "source": [
    "# Age vs BMI\n",
    "\n",
    "plt.subplot(1, 2, 2)\n",
    "plt.scatter(data_col1, data_col2, c=[colors[i] for i in kmeans_model.labels_],  s=40)\n",
    "plt.title('Age vs BMI')\n",
    "plt.xlabel('Age')\n",
    "plt.ylabel('BMI')\n",
    "   \n",
    "centers = kmeans_model.cluster_centers_\n",
    "plt.scatter(centers[:, 0], centers[:, 1], c='orange', s=200, alpha=0.5)"
   ]
  },
  {
   "cell_type": "code",
   "execution_count": 193,
   "metadata": {},
   "outputs": [
    {
     "name": "stdout",
     "output_type": "stream",
     "text": [
      "     Age        BMI  Glucose  Insulin       HOMA   Leptin  Adiponectin  \\\n",
      "0     48  23.500000       70    2.707   0.467409   8.8071     9.702400   \n",
      "1     83  20.690495       92    3.115   0.706897   8.8438     5.429285   \n",
      "2     82  23.124670       91    4.498   1.009651  17.9393    22.432040   \n",
      "3     68  21.367521       77    3.226   0.612725   9.8827     7.169560   \n",
      "4     86  21.111111       92    3.549   0.805386   6.6994     4.819240   \n",
      "5     49  22.854458       92    3.226   0.732087   6.8317    13.679750   \n",
      "6     89  22.700000       77    4.690   0.890787   6.9640     5.589865   \n",
      "7     76  23.800000      118    6.470   1.883201   4.3110    13.251320   \n",
      "8     73  22.000000       97    3.350   0.801543   4.4700    10.358725   \n",
      "9     75  23.000000       83    4.952   1.013839  17.1270    11.578990   \n",
      "10    34  21.470000       78    3.469   0.667436  14.5700    13.110000   \n",
      "11    29  23.010000       82    5.663   1.145436  35.5900    26.720000   \n",
      "12    25  22.860000       82    4.090   0.827271  20.4500    23.670000   \n",
      "13    24  18.670000       88    6.107   1.330000   8.8800    36.060000   \n",
      "14    38  23.340000       75    5.782   1.069670  15.2600    17.950000   \n",
      "15    44  20.760000       86    7.553   1.600000  14.0900    20.320000   \n",
      "16    47  22.030000       84    2.869   0.590000  26.6500    38.040000   \n",
      "17    61  32.038959       85   18.077   3.790144  30.7729     7.780255   \n",
      "18    64  34.529723       95    4.427   1.037394  21.2117     5.462620   \n",
      "19    32  36.512637       87   14.026   3.009980  49.3727     5.100000   \n",
      "20    36  28.576676       86    4.345   0.921719  15.1248     8.600000   \n",
      "21    34  31.975015       87    4.530   0.972138  28.7502     7.642760   \n",
      "22    29  32.270788       84    5.810   1.203832  45.6196     6.209635   \n",
      "23    35  30.276817       84    4.376   0.906707  39.2134     9.048185   \n",
      "24    54  30.483158       90    5.537   1.229214  12.3310     9.731380   \n",
      "25    45  37.035608       83    6.760   1.383997  39.9802     4.617125   \n",
      "26    50  38.578759      106    6.703   1.752611  46.6401     4.667645   \n",
      "27    66  31.446541       90    9.245   2.052390  45.9624    10.355260   \n",
      "28    35  35.250761       90    6.817   1.513374  50.6094     6.966895   \n",
      "29    36  34.174890       80    6.590   1.300427  10.2809     5.065915   \n",
      "..   ...        ...      ...      ...        ...      ...          ...   \n",
      "86    48  28.125000       90    2.540   0.563880  15.5325    10.222310   \n",
      "87    85  27.688778      196   51.814  25.050342  70.8824     7.901685   \n",
      "88    48  31.250000      199   12.162   5.969920  18.1314     4.104105   \n",
      "89    58  29.154519      139   16.582   5.685415  22.8884    10.262660   \n",
      "90    40  30.836531      128   41.894  13.227332  31.0385     6.160995   \n",
      "91    82  31.217482      100   18.077   4.458993  31.6453     9.923650   \n",
      "92    52  30.801249       87   30.212   6.483495  29.2739     6.268540   \n",
      "93    49  32.461911      134   24.887   8.225983  42.3914    10.793940   \n",
      "94    60  31.231410      131   30.130   9.736007  37.8430     8.404430   \n",
      "95    49  29.777778       70    8.396   1.449709  51.3387    10.731740   \n",
      "96    44  27.887617       99    9.208   2.248594  12.6757     5.478170   \n",
      "97    40  27.636054      103    2.432   0.617890  14.3224     6.783870   \n",
      "98    71  27.915519      104   18.200   4.668907  53.4997     1.656020   \n",
      "99    69  28.444444      108    8.808   2.346451  14.7485     5.288025   \n",
      "100   74  28.650138       88    3.012   0.653805  31.1233     7.652220   \n",
      "101   66  26.562500       89    6.524   1.432235  14.9084     8.429960   \n",
      "102   65  30.915577       97   10.491   2.510147  44.0217     3.710090   \n",
      "103   72  29.136316       83   10.949   2.241625  26.8081     2.784910   \n",
      "104   57  34.838148       95   12.548   2.940415  33.1612     2.364950   \n",
      "105   73  37.109375      134    5.636   1.862886  41.4064     3.335665   \n",
      "106   45  29.384757       90    4.713   1.046286  23.8479     6.644245   \n",
      "107   46  33.180000       92    5.750   1.304867  18.6900     9.160000   \n",
      "108   68  35.560000      131    8.150   2.633537  17.8700    11.900000   \n",
      "109   75  30.480000      152    7.010   2.628283  50.5300    10.060000   \n",
      "110   54  36.050000      119   11.910   3.495982  89.2700     8.010000   \n",
      "111   45  26.850000       92    3.330   0.755688  54.6800    12.100000   \n",
      "112   62  26.840000      100    4.530   1.117400  12.4500    21.420000   \n",
      "113   65  32.050000       97    5.730   1.370998  61.4800    22.540000   \n",
      "114   72  25.590000       82    2.820   0.570392  24.9600    33.750000   \n",
      "115   86  27.180000      138   19.910   6.777364  90.2800    14.110000   \n",
      "\n",
      "     Resistin     MCP.1  \n",
      "0     7.99585   417.114  \n",
      "1     4.06405   468.786  \n",
      "2     9.27715   554.697  \n",
      "3    12.76600   928.220  \n",
      "4    10.57635   773.920  \n",
      "5    10.31760   530.410  \n",
      "6    12.93610  1256.083  \n",
      "7     5.10420   280.694  \n",
      "8     6.28445   136.855  \n",
      "9     7.09130   318.302  \n",
      "10    6.92000   354.600  \n",
      "11    4.58000   174.800  \n",
      "12    5.14000   313.730  \n",
      "13    6.85000   632.220  \n",
      "14    9.35000   165.020  \n",
      "15    7.64000    63.610  \n",
      "16    3.32000   191.720  \n",
      "17   13.68392   444.395  \n",
      "18    6.70188   252.449  \n",
      "19   17.10223   588.460  \n",
      "20    9.15390   534.224  \n",
      "21    5.62592   572.783  \n",
      "22   24.60330   904.981  \n",
      "23   16.43706   733.797  \n",
      "24   10.19299  1227.910  \n",
      "25    8.70448   586.173  \n",
      "26   11.78388   887.160  \n",
      "27   23.38190  1102.110  \n",
      "28   22.03703   667.928  \n",
      "29   15.72187   581.313  \n",
      "..        ...       ...  \n",
      "86   16.11032  1698.440  \n",
      "87   55.21530  1078.359  \n",
      "88   53.63080  1698.440  \n",
      "89   13.97399   923.886  \n",
      "90   17.55503   638.261  \n",
      "91   19.94687   994.316  \n",
      "92   24.24591   764.667  \n",
      "93    5.76800   656.393  \n",
      "94   11.50005   396.021  \n",
      "95   20.76801   602.486  \n",
      "96   23.03306   407.206  \n",
      "97   26.01360   293.123  \n",
      "98   49.24184   256.001  \n",
      "99   16.48508   353.568  \n",
      "100  18.35574   572.401  \n",
      "101  14.91922   269.487  \n",
      "102  20.46850   396.648  \n",
      "103  14.76966   232.018  \n",
      "104   9.95420   655.834  \n",
      "105   6.89235   788.902  \n",
      "106  15.55625   621.273  \n",
      "107   8.89000   209.190  \n",
      "108   4.19000   198.400  \n",
      "109  11.73000    99.450  \n",
      "110   5.06000   218.280  \n",
      "111  10.96000   268.230  \n",
      "112   7.32000   330.160  \n",
      "113  10.33000   314.050  \n",
      "114   3.27000   392.460  \n",
      "115   4.35000    90.090  \n",
      "\n",
      "[116 rows x 9 columns]\n"
     ]
    }
   ],
   "source": [
    "new_data1 = pd.DataFrame(data)\n",
    "\n",
    "new_data1 = new_data1.drop(\"Classification\",axis=1)\n",
    "\n",
    "print new_data1"
   ]
  },
  {
   "cell_type": "code",
   "execution_count": 194,
   "metadata": {},
   "outputs": [],
   "source": [
    "dbscan = DBSCAN(eps=0.5)"
   ]
  },
  {
   "cell_type": "code",
   "execution_count": 195,
   "metadata": {},
   "outputs": [
    {
     "name": "stdout",
     "output_type": "stream",
     "text": [
      "DBSCAN(algorithm='auto', eps=0.05, leaf_size=30, metric='euclidean',\n",
      "    metric_params=None, min_samples=2, n_jobs=None, p=None)\n"
     ]
    }
   ],
   "source": [
    "model = DBSCAN(eps=0.05, min_samples=2).fit(new_data1)\n",
    "print model"
   ]
  },
  {
   "cell_type": "code",
   "execution_count": 196,
   "metadata": {},
   "outputs": [
    {
     "name": "stdout",
     "output_type": "stream",
     "text": [
      "Counter({-1: 116})\n"
     ]
    }
   ],
   "source": [
    "outliers_df = pd.DataFrame(new_data1)\n",
    "\n",
    "print Counter(model.labels_)"
   ]
  },
  {
   "cell_type": "code",
   "execution_count": 197,
   "metadata": {},
   "outputs": [
    {
     "name": "stderr",
     "output_type": "stream",
     "text": [
      "/anaconda2/lib/python2.7/site-packages/sklearn/preprocessing/data.py:625: DataConversionWarning: Data with input dtype int64, float64 were all converted to float64 by StandardScaler.\n",
      "  return self.partial_fit(X, y)\n",
      "/anaconda2/lib/python2.7/site-packages/ipykernel_launcher.py:2: DataConversionWarning: Data with input dtype int64, float64 were all converted to float64 by StandardScaler.\n",
      "  \n"
     ]
    },
    {
     "data": {
      "text/plain": [
       "DBSCAN(algorithm='auto', eps=0.5, leaf_size=30, metric='euclidean',\n",
       "    metric_params=None, min_samples=5, n_jobs=None, p=None)"
      ]
     },
     "execution_count": 197,
     "metadata": {},
     "output_type": "execute_result"
    }
   ],
   "source": [
    "stscaler = StandardScaler().fit(new_data1)\n",
    "pimanp = stscaler.transform(new_data1)\n",
    "dbscan.fit(new_data1)"
   ]
  },
  {
   "cell_type": "code",
   "execution_count": 198,
   "metadata": {},
   "outputs": [
    {
     "data": {
      "text/plain": [
       "<Figure size 1440x720 with 0 Axes>"
      ]
     },
     "metadata": {},
     "output_type": "display_data"
    }
   ],
   "source": [
    "plt.figure(figsize=(20,10))\n",
    "\n",
    "colors = np.array(['red', 'green', 'blue'])"
   ]
  },
  {
   "cell_type": "code",
   "execution_count": 199,
   "metadata": {},
   "outputs": [
    {
     "data": {
      "text/plain": [
       "Text(0,0.5,'Glucose')"
      ]
     },
     "execution_count": 199,
     "metadata": {},
     "output_type": "execute_result"
    },
    {
     "data": {
      "image/png": "[encoded data removed]",
      "text/plain": [
       "<Figure size 432x288 with 1 Axes>"
      ]
     },
     "metadata": {
      "needs_background": "light"
     },
     "output_type": "display_data"
    }
   ],
   "source": [
    "labels =  dbscan.labels_\n",
    "core_samples = np.zeros_like(labels, dtype = bool)\n",
    "core_samples[dbscan.core_sample_indices_] = True\n",
    "n_clusters_ = len(set(labels)) - (1 if -1 in labels else 0)\n",
    "n_noise_ = list(labels).count(-1)\n",
    "\n",
    "#Age vs Glucose\n",
    "plt.subplot(1, 2, 1)\n",
    "plt.scatter(data_col1, data_col2,c=[colors[i] for i in labels],  s=40)\n",
    "plt.title('Age vs Glucose')\n",
    "plt.xlabel('Age')\n",
    "plt.ylabel('Glucose')"
   ]
  },
  {
   "cell_type": "code",
   "execution_count": null,
   "metadata": {},
   "outputs": [],
   "source": []
  }
 ],
 "metadata": {
  "kernelspec": {
   "display_name": "Python 3",
   "language": "python",
   "name": "python3"
  },
  "language_info": {
   "codemirror_mode": {
    "name": "ipython",
    "version": 3
   },
   "file_extension": ".py",
   "mimetype": "text/x-python",
   "name": "python",
   "nbconvert_exporter": "python",
   "pygments_lexer": "ipython3",
   "version": "3.6.11"
  }
 },
 "nbformat": 4,
 "nbformat_minor": 2
}
